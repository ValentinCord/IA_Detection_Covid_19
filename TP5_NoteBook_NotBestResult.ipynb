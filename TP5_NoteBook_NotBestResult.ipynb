{
  "nbformat": 4,
  "nbformat_minor": 0,
  "metadata": {
    "accelerator": "GPU",
    "colab": {
      "name": "TP5_VGG16 (1) (1) (1).ipynb",
      "provenance": [],
      "collapsed_sections": []
    },
    "kernelspec": {
      "display_name": "Python 3",
      "name": "python3"
    }
  },
  "cells": [
    {
      "cell_type": "markdown",
      "metadata": {
        "id": "iK6fZUXolwPs"
      },
      "source": [
        "# **1. Informations matériel (GPU)**"
      ]
    },
    {
      "cell_type": "code",
      "metadata": {
        "id": "_UEjh8Rulquq",
        "colab": {
          "base_uri": "https://localhost:8080/"
        },
        "outputId": "197ef83c-4b73-4848-baf0-f06de1add93e"
      },
      "source": [
        "!/opt/bin/nvidia-smi\n",
        "!rm -rf sample_data"
      ],
      "execution_count": 2,
      "outputs": [
        {
          "output_type": "stream",
          "name": "stdout",
          "text": [
            "Sun Nov 28 18:35:48 2021       \n",
            "+-----------------------------------------------------------------------------+\n",
            "| NVIDIA-SMI 460.32.03    Driver Version: 460.32.03    CUDA Version: 11.2     |\n",
            "|-------------------------------+----------------------+----------------------+\n",
            "| GPU  Name        Persistence-M| Bus-Id        Disp.A | Volatile Uncorr. ECC |\n",
            "| Fan  Temp  Perf  Pwr:Usage/Cap|         Memory-Usage | GPU-Util  Compute M. |\n",
            "|                               |                      |               MIG M. |\n",
            "|===============================+======================+======================|\n",
            "|   0  Tesla K80           Off  | 00000000:00:04.0 Off |                    0 |\n",
            "| N/A   47C    P8    29W / 149W |      0MiB / 11441MiB |      0%      Default |\n",
            "|                               |                      |                  N/A |\n",
            "+-------------------------------+----------------------+----------------------+\n",
            "                                                                               \n",
            "+-----------------------------------------------------------------------------+\n",
            "| Processes:                                                                  |\n",
            "|  GPU   GI   CI        PID   Type   Process name                  GPU Memory |\n",
            "|        ID   ID                                                   Usage      |\n",
            "|=============================================================================|\n",
            "|  No running processes found                                                 |\n",
            "+-----------------------------------------------------------------------------+\n"
          ]
        }
      ]
    },
    {
      "cell_type": "markdown",
      "metadata": {
        "id": "QrtS3fRhb5x6"
      },
      "source": [
        "# **2. Importation des librairies**"
      ]
    },
    {
      "cell_type": "code",
      "metadata": {
        "colab": {
          "base_uri": "https://localhost:8080/"
        },
        "id": "MS3XuLGyb5x_",
        "outputId": "bc9d7a34-4fe4-4fab-a9ec-f0b440ae8fd5"
      },
      "source": [
        "from IPython.display import Image, HTML, display\n",
        "from matplotlib import pyplot as plt\n",
        "import numpy as np\n",
        "import pandas as pd\n",
        "import os\n",
        "import cv2 \n",
        "import os\n",
        "import csv\n",
        "import tensorflow as tf\n",
        "from tensorflow import keras\n",
        "from keras.preprocessing import image\n",
        "from keras.models import Model, load_model\n",
        "from keras import backend as K\n",
        "from keras.applications.xception import Xception, preprocess_input, decode_predictions #299*299\n",
        "\n",
        "from keras.applications.mobilenet import MobileNet\n",
        "from keras.applications.vgg19 import VGG19\n",
        "from keras.applications.vgg16 import VGG16\n",
        "\n",
        "!pip install tf-explain\n",
        "from tf_explain.callbacks.grad_cam import GradCAMCallback\n",
        "\n",
        "from keras.layers.core import Dense\n",
        "from keras.layers.core import Dropout\n",
        "\n",
        "from sklearn.metrics import classification_report, confusion_matrix\n",
        "\n",
        "from keras.preprocessing.image import ImageDataGenerator\n",
        "from keras.losses import categorical_crossentropy\n",
        "from keras.layers import Dense, GlobalAveragePooling2D, Activation, Flatten\n",
        "from keras.callbacks import ModelCheckpoint, EarlyStopping\n",
        "from tensorflow.keras.optimizers import Adam, SGD, RMSprop\n",
        "from tensorflow.keras.utils import to_categorical\n",
        "import math\n",
        "import argparse\n",
        "import matplotlib\n",
        "import imghdr\n",
        "import pickle as pkl\n",
        "import datetime\n",
        "from cycler import cycler\n",
        "from PIL import Image, ImageEnhance\n",
        "from google.colab import files\n",
        "print(\"Tensorflow version: \"+tf.__version__)\n",
        "print(\"Keras version: \" + tf.keras.__version__)"
      ],
      "execution_count": 3,
      "outputs": [
        {
          "output_type": "stream",
          "name": "stdout",
          "text": [
            "Collecting tf-explain\n",
            "  Downloading tf_explain-0.3.1-py3-none-any.whl (43 kB)\n",
            "\u001b[?25l\r\u001b[K     |███████▌                        | 10 kB 25.9 MB/s eta 0:00:01\r\u001b[K     |███████████████                 | 20 kB 24.8 MB/s eta 0:00:01\r\u001b[K     |██████████████████████▋         | 30 kB 12.0 MB/s eta 0:00:01\r\u001b[K     |██████████████████████████████  | 40 kB 9.6 MB/s eta 0:00:01\r\u001b[K     |████████████████████████████████| 43 kB 1.5 MB/s \n",
            "\u001b[?25hInstalling collected packages: tf-explain\n",
            "Successfully installed tf-explain-0.3.1\n",
            "Tensorflow version: 2.7.0\n",
            "Keras version: 2.7.0\n"
          ]
        }
      ]
    },
    {
      "cell_type": "markdown",
      "metadata": {
        "id": "f6HqNeyYKraU"
      },
      "source": [
        "#**3. Télécharger la base de données d'entrainement 3000 images avec 3 classes**"
      ]
    },
    {
      "cell_type": "code",
      "metadata": {
        "id": "1CwAmMbqmGhW"
      },
      "source": [
        "bases_path_after=\"bases\"\n",
        "if os.path.exists(bases_path_after) == False:\n",
        "    os.makedirs(bases_path_after)"
      ],
      "execution_count": 4,
      "outputs": []
    },
    {
      "cell_type": "code",
      "metadata": {
        "id": "9zdwkyRtmnN-",
        "colab": {
          "base_uri": "https://localhost:8080/"
        },
        "outputId": "3ae77ddd-58fc-4d11-95b2-da6d65017c47"
      },
      "source": [
        "!rm -rf sample_data\n",
        "! wget http://172.104.134.59/medium_covid_dataset_3classes.tar\n",
        "! tar xf medium_covid_dataset_3classes.tar -C 'bases' --one-top-level\n",
        "! rm medium_covid_dataset_3classes.tar"
      ],
      "execution_count": 5,
      "outputs": [
        {
          "output_type": "stream",
          "name": "stdout",
          "text": [
            "--2021-11-28 18:35:56--  http://172.104.134.59/medium_covid_dataset_3classes.tar\n",
            "Connecting to 172.104.134.59:80... connected.\n",
            "HTTP request sent, awaiting response... 200 OK\n",
            "Length: 130176512 (124M) [application/octet-stream]\n",
            "Saving to: ‘medium_covid_dataset_3classes.tar’\n",
            "\n",
            "medium_covid_datase 100%[===================>] 124.15M  10.6MB/s    in 14s     \n",
            "\n",
            "2021-11-28 18:36:10 (8.95 MB/s) - ‘medium_covid_dataset_3classes.tar’ saved [130176512/130176512]\n",
            "\n"
          ]
        }
      ]
    },
    {
      "cell_type": "markdown",
      "metadata": {
        "id": "P_-BpaZnLDmn"
      },
      "source": [
        "#**4. Création du fichier de labels \"classes.txt\"**"
      ]
    },
    {
      "cell_type": "code",
      "metadata": {
        "id": "70eR5xy2nNZP"
      },
      "source": [
        "!printf '%s\\n' 'covid-19' 'normal' 'viral-pneumonia'> classes.txt"
      ],
      "execution_count": 6,
      "outputs": []
    },
    {
      "cell_type": "markdown",
      "metadata": {
        "id": "YyXXoZphLN1-"
      },
      "source": [
        "#**5. Paramètres d'entrainement et sélection du modèle pré-entrainé**"
      ]
    },
    {
      "cell_type": "code",
      "metadata": {
        "id": "HwKf5hQLnUPi"
      },
      "source": [
        "nb_classes = 3\n",
        "nbr_batch_size=16 #@param [1,2,4,8,16,32,64,128] {type:\"raw\"}\n",
        "dataset_path = \"bases\"\n",
        "input_dim=299 #@param [224,299] {type:\"raw\"}  \n",
        "dataset_name='medium_covid_dataset_3classes' #@param [\"medium_covid_dataset_3classes\",\"covid_dataset_4classes\",\"personal\"]\n",
        "\n",
        "dataset_path = os.path.join('bases/', dataset_name,'train')\n",
        "dataset_test = os.path.join('bases/', dataset_name,'test')\n",
        "classes_path = \"classes.txt\"\n",
        "csv_path = 'result.csv'\n",
        "epochs = 20 #@ param {type:\"slider\", min:5, max:100, step:5}\n",
        "\n",
        "seed = 1\n",
        "result_path='results/'\n",
        "log_path='logs'\n",
        "\n",
        "classifier = \"Xception\" #@param [\"Xception\",\"VGG16\",\"VGG19\",\"ResNet50\",\"ResNet121\",\"ResNet152\",\"ResNet50V2\",\"ResNet121V2\",\"ResNet152V2\",\"InceptionV3\",\"InceptionResNetV2\",\"MobileNet\",\"MobileNetV2\",\"DenseNet121\",\"DenseNet169\",\"DenseNet201\",\"NASNetLarge\",\"NASNetMobile\"] {type:\"string\"}\n",
        "result_path = 'results/'+classifier\n",
        "log={\n",
        "    'epochs':epochs,\n",
        "    'batch_size':nbr_batch_size,\n",
        "    'val_loss':-1,\n",
        "    'val_acc':-1,\n",
        "}\n"
      ],
      "execution_count": 7,
      "outputs": []
    },
    {
      "cell_type": "markdown",
      "metadata": {
        "id": "7SBzh646b5yz"
      },
      "source": [
        "# **6. Compter le nombre de classes**"
      ]
    },
    {
      "cell_type": "code",
      "metadata": {
        "id": "NZ55HVhkb5y3"
      },
      "source": [
        "# Récupérer les noms des classes\n",
        "with open(classes_path, 'r') as f:\n",
        "    classes = f.readlines()\n",
        "    classes = list(map(lambda x: x.strip(), classes))\n",
        "num_classes = len(classes)"
      ],
      "execution_count": 8,
      "outputs": []
    },
    {
      "cell_type": "markdown",
      "metadata": {
        "id": "NTyWV0pQb5zD"
      },
      "source": [
        "# **7. Création du jeu de données d'entraînement**"
      ]
    },
    {
      "cell_type": "code",
      "metadata": {
        "id": "UoWLjGra8Ls9",
        "colab": {
          "base_uri": "https://localhost:8080/"
        },
        "outputId": "6572db9f-3e50-4564-b902-c0b9e3a3330b"
      },
      "source": [
        "train_ds = tf.keras.preprocessing.image_dataset_from_directory(\n",
        "\tdataset_path,                          # chemin vers le jeu de données\n",
        "\tvalidation_split=0.2,                  # paritionnement du jeu de données en un jeu de validation (20%), train (80%)\n",
        "\tsubset=\"training\",                     # Sélection du jeu de données d'entraînement\n",
        "\tseed=42,                               # Initialisation du générateur aléatoire (permutations)\n",
        "\timage_size=(input_dim,input_dim),      # Taille des images d'entrée\n",
        "\tbatch_size=nbr_batch_size,             # Taille du mini-batch\n",
        "  label_mode='categorical'\t\t\t\t\t     # Conversion au format One-Hot\n",
        ")\n",
        "\n",
        "print(train_ds)"
      ],
      "execution_count": 9,
      "outputs": [
        {
          "output_type": "stream",
          "name": "stdout",
          "text": [
            "Found 3000 files belonging to 3 classes.\n",
            "Using 2400 files for training.\n",
            "<BatchDataset shapes: ((None, 299, 299, 3), (None, 3)), types: (tf.float32, tf.float32)>\n"
          ]
        }
      ]
    },
    {
      "cell_type": "markdown",
      "metadata": {
        "id": "ji2AfPd88PC-"
      },
      "source": [
        "#**8. Création du jeu de validation (A COMPLETER : même générateur, On-Hot, jeu \"validation\")**"
      ]
    },
    {
      "cell_type": "code",
      "metadata": {
        "id": "7Oruux4rRyDv",
        "colab": {
          "base_uri": "https://localhost:8080/"
        },
        "outputId": "14dba3ca-3cdb-4749-ab2b-26a246804aed"
      },
      "source": [
        "val_ds = tf.keras.preprocessing.image_dataset_from_directory(\n",
        "\tdataset_path,                          # chemin vers le jeu de données\n",
        "\tvalidation_split=0.2,                  # paritionnement du jeu de données en un jeu de validation (20%), train (80%)\n",
        "\tsubset=\"validation\",                   # Sélection du jeu de données d'entraînement\n",
        "\tseed=42,                               # Initialisation du générateur aléatoire (permutations)\n",
        "\timage_size=(input_dim,input_dim),      # Taille des images d'entrée\n",
        "\tbatch_size=nbr_batch_size,             # Taille du mini-batch\n",
        "  label_mode='categorical'   \t\t\t\t\t\t # Conversion au format One-Hot\n",
        ")\n",
        "\n",
        "print(val_ds)"
      ],
      "execution_count": 10,
      "outputs": [
        {
          "output_type": "stream",
          "name": "stdout",
          "text": [
            "Found 3000 files belonging to 3 classes.\n",
            "Using 600 files for validation.\n",
            "<BatchDataset shapes: ((None, 299, 299, 3), (None, 3)), types: (tf.float32, tf.float32)>\n"
          ]
        }
      ]
    },
    {
      "cell_type": "markdown",
      "metadata": {
        "id": "Wi8oBrIJWa5s"
      },
      "source": [
        "# **9. Téléchargement d'un modèle préentraîné et Transfer Learning (A compléter)**"
      ]
    },
    {
      "cell_type": "code",
      "metadata": {
        "id": "_WCBo9Oyb5zc",
        "colab": {
          "base_uri": "https://localhost:8080/"
        },
        "outputId": "c74dd01f-c619-4b1e-a66e-57c46c0bbb2c"
      },
      "source": [
        "base_model = Xception(include_top=False, weights='imagenet', input_shape=( input_dim,input_dim,3)) \n",
        "# create a custom top classifier\n",
        "x = base_model.output\n",
        "x = GlobalAveragePooling2D()(x)\n",
        "predictions = Dense(num_classes, activation='softmax')(x)\n",
        "model = Model(inputs=base_model.inputs, outputs=predictions)\n"
      ],
      "execution_count": 11,
      "outputs": [
        {
          "output_type": "stream",
          "name": "stdout",
          "text": [
            "Downloading data from https://storage.googleapis.com/tensorflow/keras-applications/xception/xception_weights_tf_dim_ordering_tf_kernels_notop.h5\n",
            "83689472/83683744 [==============================] - 1s 0us/step\n",
            "83697664/83683744 [==============================] - 1s 0us/step\n"
          ]
        }
      ]
    },
    {
      "cell_type": "markdown",
      "metadata": {
        "id": "q6CWnXEPb5zX"
      },
      "source": [
        "# **10. Entraînement du modèle (A compléter)**"
      ]
    },
    {
      "cell_type": "code",
      "metadata": {
        "id": "vY9rWkgJbYk3"
      },
      "source": [
        "keras_callback = [EarlyStopping(\n",
        "                      monitor='val_mean_absolute_error', \n",
        "                      patience=15,verbose=2\n",
        "                  )]"
      ],
      "execution_count": 12,
      "outputs": []
    },
    {
      "cell_type": "code",
      "metadata": {
        "colab": {
          "base_uri": "https://localhost:8080/"
        },
        "id": "GPGAZ2Vab5zo",
        "outputId": "b9e74bd2-62b3-49a8-d289-8591598258c9"
      },
      "source": [
        "# pour permettre le pré-entrainement des couches\n",
        "for layer in model.layers:\n",
        "    layer.trainable = True\n",
        "\n",
        "# recompiler le modèle\n",
        "opt1 = keras.optimizers.RMSprop(learning_rate=0.001,decay=1e-6)\n",
        "opt2 = keras.optimizers.SGD(learning_rate=0.001)\n",
        "model.compile(loss='categorical_crossentropy',optimizer=opt1,metrics=['accuracy']) # Remplacer les *** par une optimiseur \n",
        "\n",
        "\n",
        "# Création du dossier pour sauvegrader le model\n",
        "if os.path.exists(result_path) == False:\n",
        "    os.makedirs(result_path)\n",
        "\n",
        "history=model.fit(\n",
        "    train_ds,\n",
        "    steps_per_epoch=math.ceil(len(train_ds)),\n",
        "    epochs=epochs,\n",
        "    validation_data=val_ds,\n",
        "    callbacks = keras_callback,\n",
        "    validation_steps=math.ceil(len(val_ds)),\n",
        "    verbose=1\n",
        ")"
      ],
      "execution_count": 13,
      "outputs": [
        {
          "output_type": "stream",
          "name": "stdout",
          "text": [
            "Epoch 1/20\n",
            "150/150 [==============================] - ETA: 0s - loss: 0.4126 - accuracy: 0.8692WARNING:tensorflow:Early stopping conditioned on metric `val_mean_absolute_error` which is not available. Available metrics are: loss,accuracy,val_loss,val_accuracy\n",
            "150/150 [==============================] - 228s 1s/step - loss: 0.4126 - accuracy: 0.8692 - val_loss: 8.9544 - val_accuracy: 0.6500\n",
            "Epoch 2/20\n",
            "150/150 [==============================] - ETA: 0s - loss: 0.2282 - accuracy: 0.9275WARNING:tensorflow:Early stopping conditioned on metric `val_mean_absolute_error` which is not available. Available metrics are: loss,accuracy,val_loss,val_accuracy\n",
            "150/150 [==============================] - 206s 1s/step - loss: 0.2282 - accuracy: 0.9275 - val_loss: 2.2687 - val_accuracy: 0.7917\n",
            "Epoch 3/20\n",
            "150/150 [==============================] - ETA: 0s - loss: 0.1436 - accuracy: 0.9546WARNING:tensorflow:Early stopping conditioned on metric `val_mean_absolute_error` which is not available. Available metrics are: loss,accuracy,val_loss,val_accuracy\n",
            "150/150 [==============================] - 206s 1s/step - loss: 0.1436 - accuracy: 0.9546 - val_loss: 1.5419 - val_accuracy: 0.8200\n",
            "Epoch 4/20\n",
            "150/150 [==============================] - ETA: 0s - loss: 0.1323 - accuracy: 0.9625WARNING:tensorflow:Early stopping conditioned on metric `val_mean_absolute_error` which is not available. Available metrics are: loss,accuracy,val_loss,val_accuracy\n",
            "150/150 [==============================] - 206s 1s/step - loss: 0.1323 - accuracy: 0.9625 - val_loss: 4.4714 - val_accuracy: 0.6400\n",
            "Epoch 5/20\n",
            "150/150 [==============================] - ETA: 0s - loss: 0.0680 - accuracy: 0.9796WARNING:tensorflow:Early stopping conditioned on metric `val_mean_absolute_error` which is not available. Available metrics are: loss,accuracy,val_loss,val_accuracy\n",
            "150/150 [==============================] - 206s 1s/step - loss: 0.0680 - accuracy: 0.9796 - val_loss: 0.2721 - val_accuracy: 0.9517\n",
            "Epoch 6/20\n",
            "150/150 [==============================] - ETA: 0s - loss: 0.0693 - accuracy: 0.9779WARNING:tensorflow:Early stopping conditioned on metric `val_mean_absolute_error` which is not available. Available metrics are: loss,accuracy,val_loss,val_accuracy\n",
            "150/150 [==============================] - 207s 1s/step - loss: 0.0693 - accuracy: 0.9779 - val_loss: 0.3597 - val_accuracy: 0.9367\n",
            "Epoch 7/20\n",
            "150/150 [==============================] - ETA: 0s - loss: 0.0485 - accuracy: 0.9850WARNING:tensorflow:Early stopping conditioned on metric `val_mean_absolute_error` which is not available. Available metrics are: loss,accuracy,val_loss,val_accuracy\n",
            "150/150 [==============================] - 207s 1s/step - loss: 0.0485 - accuracy: 0.9850 - val_loss: 0.2004 - val_accuracy: 0.9600\n",
            "Epoch 8/20\n",
            "150/150 [==============================] - ETA: 0s - loss: 0.0566 - accuracy: 0.9883WARNING:tensorflow:Early stopping conditioned on metric `val_mean_absolute_error` which is not available. Available metrics are: loss,accuracy,val_loss,val_accuracy\n",
            "150/150 [==============================] - 206s 1s/step - loss: 0.0566 - accuracy: 0.9883 - val_loss: 2.6393 - val_accuracy: 0.5950\n",
            "Epoch 9/20\n",
            "150/150 [==============================] - ETA: 0s - loss: 0.0616 - accuracy: 0.9887WARNING:tensorflow:Early stopping conditioned on metric `val_mean_absolute_error` which is not available. Available metrics are: loss,accuracy,val_loss,val_accuracy\n",
            "150/150 [==============================] - 206s 1s/step - loss: 0.0616 - accuracy: 0.9887 - val_loss: 0.2558 - val_accuracy: 0.9450\n",
            "Epoch 10/20\n",
            "150/150 [==============================] - ETA: 0s - loss: 0.0383 - accuracy: 0.9883WARNING:tensorflow:Early stopping conditioned on metric `val_mean_absolute_error` which is not available. Available metrics are: loss,accuracy,val_loss,val_accuracy\n",
            "150/150 [==============================] - 207s 1s/step - loss: 0.0383 - accuracy: 0.9883 - val_loss: 0.5858 - val_accuracy: 0.9367\n",
            "Epoch 11/20\n",
            "150/150 [==============================] - ETA: 0s - loss: 0.0405 - accuracy: 0.9904WARNING:tensorflow:Early stopping conditioned on metric `val_mean_absolute_error` which is not available. Available metrics are: loss,accuracy,val_loss,val_accuracy\n",
            "150/150 [==============================] - 206s 1s/step - loss: 0.0405 - accuracy: 0.9904 - val_loss: 2.2534 - val_accuracy: 0.8217\n",
            "Epoch 12/20\n",
            "150/150 [==============================] - ETA: 0s - loss: 0.0311 - accuracy: 0.9937WARNING:tensorflow:Early stopping conditioned on metric `val_mean_absolute_error` which is not available. Available metrics are: loss,accuracy,val_loss,val_accuracy\n",
            "150/150 [==============================] - 206s 1s/step - loss: 0.0311 - accuracy: 0.9937 - val_loss: 1.0281 - val_accuracy: 0.8133\n",
            "Epoch 13/20\n",
            "150/150 [==============================] - ETA: 0s - loss: 0.0174 - accuracy: 0.9946WARNING:tensorflow:Early stopping conditioned on metric `val_mean_absolute_error` which is not available. Available metrics are: loss,accuracy,val_loss,val_accuracy\n",
            "150/150 [==============================] - 207s 1s/step - loss: 0.0174 - accuracy: 0.9946 - val_loss: 0.3602 - val_accuracy: 0.9517\n",
            "Epoch 14/20\n",
            "150/150 [==============================] - ETA: 0s - loss: 0.0253 - accuracy: 0.9958WARNING:tensorflow:Early stopping conditioned on metric `val_mean_absolute_error` which is not available. Available metrics are: loss,accuracy,val_loss,val_accuracy\n",
            "150/150 [==============================] - 207s 1s/step - loss: 0.0253 - accuracy: 0.9958 - val_loss: 0.2612 - val_accuracy: 0.9583\n",
            "Epoch 15/20\n",
            "150/150 [==============================] - ETA: 0s - loss: 0.0151 - accuracy: 0.9967WARNING:tensorflow:Early stopping conditioned on metric `val_mean_absolute_error` which is not available. Available metrics are: loss,accuracy,val_loss,val_accuracy\n",
            "150/150 [==============================] - 207s 1s/step - loss: 0.0151 - accuracy: 0.9967 - val_loss: 0.2857 - val_accuracy: 0.9500\n",
            "Epoch 16/20\n",
            "150/150 [==============================] - ETA: 0s - loss: 0.0092 - accuracy: 0.9967WARNING:tensorflow:Early stopping conditioned on metric `val_mean_absolute_error` which is not available. Available metrics are: loss,accuracy,val_loss,val_accuracy\n",
            "150/150 [==============================] - 206s 1s/step - loss: 0.0092 - accuracy: 0.9967 - val_loss: 0.6793 - val_accuracy: 0.8933\n",
            "Epoch 17/20\n",
            "150/150 [==============================] - ETA: 0s - loss: 0.0427 - accuracy: 0.9900WARNING:tensorflow:Early stopping conditioned on metric `val_mean_absolute_error` which is not available. Available metrics are: loss,accuracy,val_loss,val_accuracy\n",
            "150/150 [==============================] - 206s 1s/step - loss: 0.0427 - accuracy: 0.9900 - val_loss: 0.6020 - val_accuracy: 0.9100\n",
            "Epoch 18/20\n",
            "150/150 [==============================] - ETA: 0s - loss: 0.0214 - accuracy: 0.9937WARNING:tensorflow:Early stopping conditioned on metric `val_mean_absolute_error` which is not available. Available metrics are: loss,accuracy,val_loss,val_accuracy\n",
            "150/150 [==============================] - 206s 1s/step - loss: 0.0214 - accuracy: 0.9937 - val_loss: 0.4311 - val_accuracy: 0.9517\n",
            "Epoch 19/20\n",
            "150/150 [==============================] - ETA: 0s - loss: 0.0141 - accuracy: 0.9954WARNING:tensorflow:Early stopping conditioned on metric `val_mean_absolute_error` which is not available. Available metrics are: loss,accuracy,val_loss,val_accuracy\n",
            "150/150 [==============================] - 206s 1s/step - loss: 0.0141 - accuracy: 0.9954 - val_loss: 0.1690 - val_accuracy: 0.9650\n",
            "Epoch 20/20\n",
            "150/150 [==============================] - ETA: 0s - loss: 0.0121 - accuracy: 0.9971WARNING:tensorflow:Early stopping conditioned on metric `val_mean_absolute_error` which is not available. Available metrics are: loss,accuracy,val_loss,val_accuracy\n",
            "150/150 [==============================] - 207s 1s/step - loss: 0.0121 - accuracy: 0.9971 - val_loss: 0.4383 - val_accuracy: 0.9567\n"
          ]
        }
      ]
    },
    {
      "cell_type": "markdown",
      "metadata": {
        "id": "xVOg-VgI9YMB"
      },
      "source": [
        "#**11. Sauvegarder le modèle final (A compléter)**\n"
      ]
    },
    {
      "cell_type": "code",
      "metadata": {
        "id": "BbAlAYpm9fg5",
        "colab": {
          "base_uri": "https://localhost:8080/"
        },
        "outputId": "d1ffd365-fdea-459a-a4a2-2c23770dda3f"
      },
      "source": [
        "model.save('model.h5')"
      ],
      "execution_count": 14,
      "outputs": [
        {
          "output_type": "stream",
          "name": "stderr",
          "text": [
            "/usr/local/lib/python3.7/dist-packages/keras/engine/functional.py:1410: CustomMaskWarning: Custom mask layers require a config and must override get_config. When loading, the custom mask layer must be passed to the custom_objects argument.\n",
            "  layer_config = serialize_layer_fn(layer)\n"
          ]
        }
      ]
    },
    {
      "cell_type": "code",
      "metadata": {
        "colab": {
          "base_uri": "https://localhost:8080/"
        },
        "id": "gkHL9TC21MLF",
        "outputId": "f8c74821-59a9-4586-cda1-6e1822ae6ce8"
      },
      "source": [
        "model.summary()"
      ],
      "execution_count": 15,
      "outputs": [
        {
          "output_type": "stream",
          "name": "stdout",
          "text": [
            "Model: \"model\"\n",
            "__________________________________________________________________________________________________\n",
            " Layer (type)                   Output Shape         Param #     Connected to                     \n",
            "==================================================================================================\n",
            " input_1 (InputLayer)           [(None, 299, 299, 3  0           []                               \n",
            "                                )]                                                                \n",
            "                                                                                                  \n",
            " block1_conv1 (Conv2D)          (None, 149, 149, 32  864         ['input_1[0][0]']                \n",
            "                                )                                                                 \n",
            "                                                                                                  \n",
            " block1_conv1_bn (BatchNormaliz  (None, 149, 149, 32  128        ['block1_conv1[0][0]']           \n",
            " ation)                         )                                                                 \n",
            "                                                                                                  \n",
            " block1_conv1_act (Activation)  (None, 149, 149, 32  0           ['block1_conv1_bn[0][0]']        \n",
            "                                )                                                                 \n",
            "                                                                                                  \n",
            " block1_conv2 (Conv2D)          (None, 147, 147, 64  18432       ['block1_conv1_act[0][0]']       \n",
            "                                )                                                                 \n",
            "                                                                                                  \n",
            " block1_conv2_bn (BatchNormaliz  (None, 147, 147, 64  256        ['block1_conv2[0][0]']           \n",
            " ation)                         )                                                                 \n",
            "                                                                                                  \n",
            " block1_conv2_act (Activation)  (None, 147, 147, 64  0           ['block1_conv2_bn[0][0]']        \n",
            "                                )                                                                 \n",
            "                                                                                                  \n",
            " block2_sepconv1 (SeparableConv  (None, 147, 147, 12  8768       ['block1_conv2_act[0][0]']       \n",
            " 2D)                            8)                                                                \n",
            "                                                                                                  \n",
            " block2_sepconv1_bn (BatchNorma  (None, 147, 147, 12  512        ['block2_sepconv1[0][0]']        \n",
            " lization)                      8)                                                                \n",
            "                                                                                                  \n",
            " block2_sepconv2_act (Activatio  (None, 147, 147, 12  0          ['block2_sepconv1_bn[0][0]']     \n",
            " n)                             8)                                                                \n",
            "                                                                                                  \n",
            " block2_sepconv2 (SeparableConv  (None, 147, 147, 12  17536      ['block2_sepconv2_act[0][0]']    \n",
            " 2D)                            8)                                                                \n",
            "                                                                                                  \n",
            " block2_sepconv2_bn (BatchNorma  (None, 147, 147, 12  512        ['block2_sepconv2[0][0]']        \n",
            " lization)                      8)                                                                \n",
            "                                                                                                  \n",
            " conv2d (Conv2D)                (None, 74, 74, 128)  8192        ['block1_conv2_act[0][0]']       \n",
            "                                                                                                  \n",
            " block2_pool (MaxPooling2D)     (None, 74, 74, 128)  0           ['block2_sepconv2_bn[0][0]']     \n",
            "                                                                                                  \n",
            " batch_normalization (BatchNorm  (None, 74, 74, 128)  512        ['conv2d[0][0]']                 \n",
            " alization)                                                                                       \n",
            "                                                                                                  \n",
            " add (Add)                      (None, 74, 74, 128)  0           ['block2_pool[0][0]',            \n",
            "                                                                  'batch_normalization[0][0]']    \n",
            "                                                                                                  \n",
            " block3_sepconv1_act (Activatio  (None, 74, 74, 128)  0          ['add[0][0]']                    \n",
            " n)                                                                                               \n",
            "                                                                                                  \n",
            " block3_sepconv1 (SeparableConv  (None, 74, 74, 256)  33920      ['block3_sepconv1_act[0][0]']    \n",
            " 2D)                                                                                              \n",
            "                                                                                                  \n",
            " block3_sepconv1_bn (BatchNorma  (None, 74, 74, 256)  1024       ['block3_sepconv1[0][0]']        \n",
            " lization)                                                                                        \n",
            "                                                                                                  \n",
            " block3_sepconv2_act (Activatio  (None, 74, 74, 256)  0          ['block3_sepconv1_bn[0][0]']     \n",
            " n)                                                                                               \n",
            "                                                                                                  \n",
            " block3_sepconv2 (SeparableConv  (None, 74, 74, 256)  67840      ['block3_sepconv2_act[0][0]']    \n",
            " 2D)                                                                                              \n",
            "                                                                                                  \n",
            " block3_sepconv2_bn (BatchNorma  (None, 74, 74, 256)  1024       ['block3_sepconv2[0][0]']        \n",
            " lization)                                                                                        \n",
            "                                                                                                  \n",
            " conv2d_1 (Conv2D)              (None, 37, 37, 256)  32768       ['add[0][0]']                    \n",
            "                                                                                                  \n",
            " block3_pool (MaxPooling2D)     (None, 37, 37, 256)  0           ['block3_sepconv2_bn[0][0]']     \n",
            "                                                                                                  \n",
            " batch_normalization_1 (BatchNo  (None, 37, 37, 256)  1024       ['conv2d_1[0][0]']               \n",
            " rmalization)                                                                                     \n",
            "                                                                                                  \n",
            " add_1 (Add)                    (None, 37, 37, 256)  0           ['block3_pool[0][0]',            \n",
            "                                                                  'batch_normalization_1[0][0]']  \n",
            "                                                                                                  \n",
            " block4_sepconv1_act (Activatio  (None, 37, 37, 256)  0          ['add_1[0][0]']                  \n",
            " n)                                                                                               \n",
            "                                                                                                  \n",
            " block4_sepconv1 (SeparableConv  (None, 37, 37, 728)  188672     ['block4_sepconv1_act[0][0]']    \n",
            " 2D)                                                                                              \n",
            "                                                                                                  \n",
            " block4_sepconv1_bn (BatchNorma  (None, 37, 37, 728)  2912       ['block4_sepconv1[0][0]']        \n",
            " lization)                                                                                        \n",
            "                                                                                                  \n",
            " block4_sepconv2_act (Activatio  (None, 37, 37, 728)  0          ['block4_sepconv1_bn[0][0]']     \n",
            " n)                                                                                               \n",
            "                                                                                                  \n",
            " block4_sepconv2 (SeparableConv  (None, 37, 37, 728)  536536     ['block4_sepconv2_act[0][0]']    \n",
            " 2D)                                                                                              \n",
            "                                                                                                  \n",
            " block4_sepconv2_bn (BatchNorma  (None, 37, 37, 728)  2912       ['block4_sepconv2[0][0]']        \n",
            " lization)                                                                                        \n",
            "                                                                                                  \n",
            " conv2d_2 (Conv2D)              (None, 19, 19, 728)  186368      ['add_1[0][0]']                  \n",
            "                                                                                                  \n",
            " block4_pool (MaxPooling2D)     (None, 19, 19, 728)  0           ['block4_sepconv2_bn[0][0]']     \n",
            "                                                                                                  \n",
            " batch_normalization_2 (BatchNo  (None, 19, 19, 728)  2912       ['conv2d_2[0][0]']               \n",
            " rmalization)                                                                                     \n",
            "                                                                                                  \n",
            " add_2 (Add)                    (None, 19, 19, 728)  0           ['block4_pool[0][0]',            \n",
            "                                                                  'batch_normalization_2[0][0]']  \n",
            "                                                                                                  \n",
            " block5_sepconv1_act (Activatio  (None, 19, 19, 728)  0          ['add_2[0][0]']                  \n",
            " n)                                                                                               \n",
            "                                                                                                  \n",
            " block5_sepconv1 (SeparableConv  (None, 19, 19, 728)  536536     ['block5_sepconv1_act[0][0]']    \n",
            " 2D)                                                                                              \n",
            "                                                                                                  \n",
            " block5_sepconv1_bn (BatchNorma  (None, 19, 19, 728)  2912       ['block5_sepconv1[0][0]']        \n",
            " lization)                                                                                        \n",
            "                                                                                                  \n",
            " block5_sepconv2_act (Activatio  (None, 19, 19, 728)  0          ['block5_sepconv1_bn[0][0]']     \n",
            " n)                                                                                               \n",
            "                                                                                                  \n",
            " block5_sepconv2 (SeparableConv  (None, 19, 19, 728)  536536     ['block5_sepconv2_act[0][0]']    \n",
            " 2D)                                                                                              \n",
            "                                                                                                  \n",
            " block5_sepconv2_bn (BatchNorma  (None, 19, 19, 728)  2912       ['block5_sepconv2[0][0]']        \n",
            " lization)                                                                                        \n",
            "                                                                                                  \n",
            " block5_sepconv3_act (Activatio  (None, 19, 19, 728)  0          ['block5_sepconv2_bn[0][0]']     \n",
            " n)                                                                                               \n",
            "                                                                                                  \n",
            " block5_sepconv3 (SeparableConv  (None, 19, 19, 728)  536536     ['block5_sepconv3_act[0][0]']    \n",
            " 2D)                                                                                              \n",
            "                                                                                                  \n",
            " block5_sepconv3_bn (BatchNorma  (None, 19, 19, 728)  2912       ['block5_sepconv3[0][0]']        \n",
            " lization)                                                                                        \n",
            "                                                                                                  \n",
            " add_3 (Add)                    (None, 19, 19, 728)  0           ['block5_sepconv3_bn[0][0]',     \n",
            "                                                                  'add_2[0][0]']                  \n",
            "                                                                                                  \n",
            " block6_sepconv1_act (Activatio  (None, 19, 19, 728)  0          ['add_3[0][0]']                  \n",
            " n)                                                                                               \n",
            "                                                                                                  \n",
            " block6_sepconv1 (SeparableConv  (None, 19, 19, 728)  536536     ['block6_sepconv1_act[0][0]']    \n",
            " 2D)                                                                                              \n",
            "                                                                                                  \n",
            " block6_sepconv1_bn (BatchNorma  (None, 19, 19, 728)  2912       ['block6_sepconv1[0][0]']        \n",
            " lization)                                                                                        \n",
            "                                                                                                  \n",
            " block6_sepconv2_act (Activatio  (None, 19, 19, 728)  0          ['block6_sepconv1_bn[0][0]']     \n",
            " n)                                                                                               \n",
            "                                                                                                  \n",
            " block6_sepconv2 (SeparableConv  (None, 19, 19, 728)  536536     ['block6_sepconv2_act[0][0]']    \n",
            " 2D)                                                                                              \n",
            "                                                                                                  \n",
            " block6_sepconv2_bn (BatchNorma  (None, 19, 19, 728)  2912       ['block6_sepconv2[0][0]']        \n",
            " lization)                                                                                        \n",
            "                                                                                                  \n",
            " block6_sepconv3_act (Activatio  (None, 19, 19, 728)  0          ['block6_sepconv2_bn[0][0]']     \n",
            " n)                                                                                               \n",
            "                                                                                                  \n",
            " block6_sepconv3 (SeparableConv  (None, 19, 19, 728)  536536     ['block6_sepconv3_act[0][0]']    \n",
            " 2D)                                                                                              \n",
            "                                                                                                  \n",
            " block6_sepconv3_bn (BatchNorma  (None, 19, 19, 728)  2912       ['block6_sepconv3[0][0]']        \n",
            " lization)                                                                                        \n",
            "                                                                                                  \n",
            " add_4 (Add)                    (None, 19, 19, 728)  0           ['block6_sepconv3_bn[0][0]',     \n",
            "                                                                  'add_3[0][0]']                  \n",
            "                                                                                                  \n",
            " block7_sepconv1_act (Activatio  (None, 19, 19, 728)  0          ['add_4[0][0]']                  \n",
            " n)                                                                                               \n",
            "                                                                                                  \n",
            " block7_sepconv1 (SeparableConv  (None, 19, 19, 728)  536536     ['block7_sepconv1_act[0][0]']    \n",
            " 2D)                                                                                              \n",
            "                                                                                                  \n",
            " block7_sepconv1_bn (BatchNorma  (None, 19, 19, 728)  2912       ['block7_sepconv1[0][0]']        \n",
            " lization)                                                                                        \n",
            "                                                                                                  \n",
            " block7_sepconv2_act (Activatio  (None, 19, 19, 728)  0          ['block7_sepconv1_bn[0][0]']     \n",
            " n)                                                                                               \n",
            "                                                                                                  \n",
            " block7_sepconv2 (SeparableConv  (None, 19, 19, 728)  536536     ['block7_sepconv2_act[0][0]']    \n",
            " 2D)                                                                                              \n",
            "                                                                                                  \n",
            " block7_sepconv2_bn (BatchNorma  (None, 19, 19, 728)  2912       ['block7_sepconv2[0][0]']        \n",
            " lization)                                                                                        \n",
            "                                                                                                  \n",
            " block7_sepconv3_act (Activatio  (None, 19, 19, 728)  0          ['block7_sepconv2_bn[0][0]']     \n",
            " n)                                                                                               \n",
            "                                                                                                  \n",
            " block7_sepconv3 (SeparableConv  (None, 19, 19, 728)  536536     ['block7_sepconv3_act[0][0]']    \n",
            " 2D)                                                                                              \n",
            "                                                                                                  \n",
            " block7_sepconv3_bn (BatchNorma  (None, 19, 19, 728)  2912       ['block7_sepconv3[0][0]']        \n",
            " lization)                                                                                        \n",
            "                                                                                                  \n",
            " add_5 (Add)                    (None, 19, 19, 728)  0           ['block7_sepconv3_bn[0][0]',     \n",
            "                                                                  'add_4[0][0]']                  \n",
            "                                                                                                  \n",
            " block8_sepconv1_act (Activatio  (None, 19, 19, 728)  0          ['add_5[0][0]']                  \n",
            " n)                                                                                               \n",
            "                                                                                                  \n",
            " block8_sepconv1 (SeparableConv  (None, 19, 19, 728)  536536     ['block8_sepconv1_act[0][0]']    \n",
            " 2D)                                                                                              \n",
            "                                                                                                  \n",
            " block8_sepconv1_bn (BatchNorma  (None, 19, 19, 728)  2912       ['block8_sepconv1[0][0]']        \n",
            " lization)                                                                                        \n",
            "                                                                                                  \n",
            " block8_sepconv2_act (Activatio  (None, 19, 19, 728)  0          ['block8_sepconv1_bn[0][0]']     \n",
            " n)                                                                                               \n",
            "                                                                                                  \n",
            " block8_sepconv2 (SeparableConv  (None, 19, 19, 728)  536536     ['block8_sepconv2_act[0][0]']    \n",
            " 2D)                                                                                              \n",
            "                                                                                                  \n",
            " block8_sepconv2_bn (BatchNorma  (None, 19, 19, 728)  2912       ['block8_sepconv2[0][0]']        \n",
            " lization)                                                                                        \n",
            "                                                                                                  \n",
            " block8_sepconv3_act (Activatio  (None, 19, 19, 728)  0          ['block8_sepconv2_bn[0][0]']     \n",
            " n)                                                                                               \n",
            "                                                                                                  \n",
            " block8_sepconv3 (SeparableConv  (None, 19, 19, 728)  536536     ['block8_sepconv3_act[0][0]']    \n",
            " 2D)                                                                                              \n",
            "                                                                                                  \n",
            " block8_sepconv3_bn (BatchNorma  (None, 19, 19, 728)  2912       ['block8_sepconv3[0][0]']        \n",
            " lization)                                                                                        \n",
            "                                                                                                  \n",
            " add_6 (Add)                    (None, 19, 19, 728)  0           ['block8_sepconv3_bn[0][0]',     \n",
            "                                                                  'add_5[0][0]']                  \n",
            "                                                                                                  \n",
            " block9_sepconv1_act (Activatio  (None, 19, 19, 728)  0          ['add_6[0][0]']                  \n",
            " n)                                                                                               \n",
            "                                                                                                  \n",
            " block9_sepconv1 (SeparableConv  (None, 19, 19, 728)  536536     ['block9_sepconv1_act[0][0]']    \n",
            " 2D)                                                                                              \n",
            "                                                                                                  \n",
            " block9_sepconv1_bn (BatchNorma  (None, 19, 19, 728)  2912       ['block9_sepconv1[0][0]']        \n",
            " lization)                                                                                        \n",
            "                                                                                                  \n",
            " block9_sepconv2_act (Activatio  (None, 19, 19, 728)  0          ['block9_sepconv1_bn[0][0]']     \n",
            " n)                                                                                               \n",
            "                                                                                                  \n",
            " block9_sepconv2 (SeparableConv  (None, 19, 19, 728)  536536     ['block9_sepconv2_act[0][0]']    \n",
            " 2D)                                                                                              \n",
            "                                                                                                  \n",
            " block9_sepconv2_bn (BatchNorma  (None, 19, 19, 728)  2912       ['block9_sepconv2[0][0]']        \n",
            " lization)                                                                                        \n",
            "                                                                                                  \n",
            " block9_sepconv3_act (Activatio  (None, 19, 19, 728)  0          ['block9_sepconv2_bn[0][0]']     \n",
            " n)                                                                                               \n",
            "                                                                                                  \n",
            " block9_sepconv3 (SeparableConv  (None, 19, 19, 728)  536536     ['block9_sepconv3_act[0][0]']    \n",
            " 2D)                                                                                              \n",
            "                                                                                                  \n",
            " block9_sepconv3_bn (BatchNorma  (None, 19, 19, 728)  2912       ['block9_sepconv3[0][0]']        \n",
            " lization)                                                                                        \n",
            "                                                                                                  \n",
            " add_7 (Add)                    (None, 19, 19, 728)  0           ['block9_sepconv3_bn[0][0]',     \n",
            "                                                                  'add_6[0][0]']                  \n",
            "                                                                                                  \n",
            " block10_sepconv1_act (Activati  (None, 19, 19, 728)  0          ['add_7[0][0]']                  \n",
            " on)                                                                                              \n",
            "                                                                                                  \n",
            " block10_sepconv1 (SeparableCon  (None, 19, 19, 728)  536536     ['block10_sepconv1_act[0][0]']   \n",
            " v2D)                                                                                             \n",
            "                                                                                                  \n",
            " block10_sepconv1_bn (BatchNorm  (None, 19, 19, 728)  2912       ['block10_sepconv1[0][0]']       \n",
            " alization)                                                                                       \n",
            "                                                                                                  \n",
            " block10_sepconv2_act (Activati  (None, 19, 19, 728)  0          ['block10_sepconv1_bn[0][0]']    \n",
            " on)                                                                                              \n",
            "                                                                                                  \n",
            " block10_sepconv2 (SeparableCon  (None, 19, 19, 728)  536536     ['block10_sepconv2_act[0][0]']   \n",
            " v2D)                                                                                             \n",
            "                                                                                                  \n",
            " block10_sepconv2_bn (BatchNorm  (None, 19, 19, 728)  2912       ['block10_sepconv2[0][0]']       \n",
            " alization)                                                                                       \n",
            "                                                                                                  \n",
            " block10_sepconv3_act (Activati  (None, 19, 19, 728)  0          ['block10_sepconv2_bn[0][0]']    \n",
            " on)                                                                                              \n",
            "                                                                                                  \n",
            " block10_sepconv3 (SeparableCon  (None, 19, 19, 728)  536536     ['block10_sepconv3_act[0][0]']   \n",
            " v2D)                                                                                             \n",
            "                                                                                                  \n",
            " block10_sepconv3_bn (BatchNorm  (None, 19, 19, 728)  2912       ['block10_sepconv3[0][0]']       \n",
            " alization)                                                                                       \n",
            "                                                                                                  \n",
            " add_8 (Add)                    (None, 19, 19, 728)  0           ['block10_sepconv3_bn[0][0]',    \n",
            "                                                                  'add_7[0][0]']                  \n",
            "                                                                                                  \n",
            " block11_sepconv1_act (Activati  (None, 19, 19, 728)  0          ['add_8[0][0]']                  \n",
            " on)                                                                                              \n",
            "                                                                                                  \n",
            " block11_sepconv1 (SeparableCon  (None, 19, 19, 728)  536536     ['block11_sepconv1_act[0][0]']   \n",
            " v2D)                                                                                             \n",
            "                                                                                                  \n",
            " block11_sepconv1_bn (BatchNorm  (None, 19, 19, 728)  2912       ['block11_sepconv1[0][0]']       \n",
            " alization)                                                                                       \n",
            "                                                                                                  \n",
            " block11_sepconv2_act (Activati  (None, 19, 19, 728)  0          ['block11_sepconv1_bn[0][0]']    \n",
            " on)                                                                                              \n",
            "                                                                                                  \n",
            " block11_sepconv2 (SeparableCon  (None, 19, 19, 728)  536536     ['block11_sepconv2_act[0][0]']   \n",
            " v2D)                                                                                             \n",
            "                                                                                                  \n",
            " block11_sepconv2_bn (BatchNorm  (None, 19, 19, 728)  2912       ['block11_sepconv2[0][0]']       \n",
            " alization)                                                                                       \n",
            "                                                                                                  \n",
            " block11_sepconv3_act (Activati  (None, 19, 19, 728)  0          ['block11_sepconv2_bn[0][0]']    \n",
            " on)                                                                                              \n",
            "                                                                                                  \n",
            " block11_sepconv3 (SeparableCon  (None, 19, 19, 728)  536536     ['block11_sepconv3_act[0][0]']   \n",
            " v2D)                                                                                             \n",
            "                                                                                                  \n",
            " block11_sepconv3_bn (BatchNorm  (None, 19, 19, 728)  2912       ['block11_sepconv3[0][0]']       \n",
            " alization)                                                                                       \n",
            "                                                                                                  \n",
            " add_9 (Add)                    (None, 19, 19, 728)  0           ['block11_sepconv3_bn[0][0]',    \n",
            "                                                                  'add_8[0][0]']                  \n",
            "                                                                                                  \n",
            " block12_sepconv1_act (Activati  (None, 19, 19, 728)  0          ['add_9[0][0]']                  \n",
            " on)                                                                                              \n",
            "                                                                                                  \n",
            " block12_sepconv1 (SeparableCon  (None, 19, 19, 728)  536536     ['block12_sepconv1_act[0][0]']   \n",
            " v2D)                                                                                             \n",
            "                                                                                                  \n",
            " block12_sepconv1_bn (BatchNorm  (None, 19, 19, 728)  2912       ['block12_sepconv1[0][0]']       \n",
            " alization)                                                                                       \n",
            "                                                                                                  \n",
            " block12_sepconv2_act (Activati  (None, 19, 19, 728)  0          ['block12_sepconv1_bn[0][0]']    \n",
            " on)                                                                                              \n",
            "                                                                                                  \n",
            " block12_sepconv2 (SeparableCon  (None, 19, 19, 728)  536536     ['block12_sepconv2_act[0][0]']   \n",
            " v2D)                                                                                             \n",
            "                                                                                                  \n",
            " block12_sepconv2_bn (BatchNorm  (None, 19, 19, 728)  2912       ['block12_sepconv2[0][0]']       \n",
            " alization)                                                                                       \n",
            "                                                                                                  \n",
            " block12_sepconv3_act (Activati  (None, 19, 19, 728)  0          ['block12_sepconv2_bn[0][0]']    \n",
            " on)                                                                                              \n",
            "                                                                                                  \n",
            " block12_sepconv3 (SeparableCon  (None, 19, 19, 728)  536536     ['block12_sepconv3_act[0][0]']   \n",
            " v2D)                                                                                             \n",
            "                                                                                                  \n",
            " block12_sepconv3_bn (BatchNorm  (None, 19, 19, 728)  2912       ['block12_sepconv3[0][0]']       \n",
            " alization)                                                                                       \n",
            "                                                                                                  \n",
            " add_10 (Add)                   (None, 19, 19, 728)  0           ['block12_sepconv3_bn[0][0]',    \n",
            "                                                                  'add_9[0][0]']                  \n",
            "                                                                                                  \n",
            " block13_sepconv1_act (Activati  (None, 19, 19, 728)  0          ['add_10[0][0]']                 \n",
            " on)                                                                                              \n",
            "                                                                                                  \n",
            " block13_sepconv1 (SeparableCon  (None, 19, 19, 728)  536536     ['block13_sepconv1_act[0][0]']   \n",
            " v2D)                                                                                             \n",
            "                                                                                                  \n",
            " block13_sepconv1_bn (BatchNorm  (None, 19, 19, 728)  2912       ['block13_sepconv1[0][0]']       \n",
            " alization)                                                                                       \n",
            "                                                                                                  \n",
            " block13_sepconv2_act (Activati  (None, 19, 19, 728)  0          ['block13_sepconv1_bn[0][0]']    \n",
            " on)                                                                                              \n",
            "                                                                                                  \n",
            " block13_sepconv2 (SeparableCon  (None, 19, 19, 1024  752024     ['block13_sepconv2_act[0][0]']   \n",
            " v2D)                           )                                                                 \n",
            "                                                                                                  \n",
            " block13_sepconv2_bn (BatchNorm  (None, 19, 19, 1024  4096       ['block13_sepconv2[0][0]']       \n",
            " alization)                     )                                                                 \n",
            "                                                                                                  \n",
            " conv2d_3 (Conv2D)              (None, 10, 10, 1024  745472      ['add_10[0][0]']                 \n",
            "                                )                                                                 \n",
            "                                                                                                  \n",
            " block13_pool (MaxPooling2D)    (None, 10, 10, 1024  0           ['block13_sepconv2_bn[0][0]']    \n",
            "                                )                                                                 \n",
            "                                                                                                  \n",
            " batch_normalization_3 (BatchNo  (None, 10, 10, 1024  4096       ['conv2d_3[0][0]']               \n",
            " rmalization)                   )                                                                 \n",
            "                                                                                                  \n",
            " add_11 (Add)                   (None, 10, 10, 1024  0           ['block13_pool[0][0]',           \n",
            "                                )                                 'batch_normalization_3[0][0]']  \n",
            "                                                                                                  \n",
            " block14_sepconv1 (SeparableCon  (None, 10, 10, 1536  1582080    ['add_11[0][0]']                 \n",
            " v2D)                           )                                                                 \n",
            "                                                                                                  \n",
            " block14_sepconv1_bn (BatchNorm  (None, 10, 10, 1536  6144       ['block14_sepconv1[0][0]']       \n",
            " alization)                     )                                                                 \n",
            "                                                                                                  \n",
            " block14_sepconv1_act (Activati  (None, 10, 10, 1536  0          ['block14_sepconv1_bn[0][0]']    \n",
            " on)                            )                                                                 \n",
            "                                                                                                  \n",
            " block14_sepconv2 (SeparableCon  (None, 10, 10, 2048  3159552    ['block14_sepconv1_act[0][0]']   \n",
            " v2D)                           )                                                                 \n",
            "                                                                                                  \n",
            " block14_sepconv2_bn (BatchNorm  (None, 10, 10, 2048  8192       ['block14_sepconv2[0][0]']       \n",
            " alization)                     )                                                                 \n",
            "                                                                                                  \n",
            " block14_sepconv2_act (Activati  (None, 10, 10, 2048  0          ['block14_sepconv2_bn[0][0]']    \n",
            " on)                            )                                                                 \n",
            "                                                                                                  \n",
            " global_average_pooling2d (Glob  (None, 2048)        0           ['block14_sepconv2_act[0][0]']   \n",
            " alAveragePooling2D)                                                                              \n",
            "                                                                                                  \n",
            " dense (Dense)                  (None, 3)            6147        ['global_average_pooling2d[0][0]'\n",
            "                                                                 ]                                \n",
            "                                                                                                  \n",
            "==================================================================================================\n",
            "Total params: 20,867,627\n",
            "Trainable params: 20,813,099\n",
            "Non-trainable params: 54,528\n",
            "__________________________________________________________________________________________________\n"
          ]
        }
      ]
    },
    {
      "cell_type": "code",
      "metadata": {
        "id": "YUudwiOV1QWg"
      },
      "source": [
        "from keras.utils.vis_utils import plot_model\n",
        "model.layers\n",
        "plot_model(model, to_file='model_plot.png', show_shapes=True, show_layer_names=True)"
      ],
      "execution_count": null,
      "outputs": []
    },
    {
      "cell_type": "markdown",
      "metadata": {
        "id": "GN_ljTXlMSIZ"
      },
      "source": [
        "#**11.2. Affichage des courbes d'entrainement/validation**"
      ]
    },
    {
      "cell_type": "code",
      "metadata": {
        "id": "QtIwdjee_KLk",
        "colab": {
          "base_uri": "https://localhost:8080/",
          "height": 295
        },
        "outputId": "7fa1667a-5142-4294-b4b0-14acc7ecbf84"
      },
      "source": [
        "import matplotlib.pyplot as plt\n",
        "plt.plot(history.history['accuracy'])\n",
        "plt.plot(history.history['val_accuracy'])\n",
        "plt.title('model accuracy')\n",
        "plt.ylabel('accuracy')\n",
        "plt.xlabel('epoch')\n",
        "plt.legend(['train', 'valid'], loc='upper left')\n",
        "plt.show()"
      ],
      "execution_count": 16,
      "outputs": [
        {
          "output_type": "display_data",
          "data": {
            "image/png": "[encoded data removed]",
            "text/plain": [
              "<Figure size 432x288 with 1 Axes>"
            ]
          },
          "metadata": {
            "needs_background": "light"
          }
        }
      ]
    },
    {
      "cell_type": "code",
      "metadata": {
        "id": "IZLD6xpqIt8I",
        "colab": {
          "base_uri": "https://localhost:8080/",
          "height": 295
        },
        "outputId": "bda67439-e554-44b0-958d-14abdc3d8688"
      },
      "source": [
        "import matplotlib.pyplot as plt\n",
        "plt.plot(history.history['loss'])\n",
        "plt.plot(history.history['val_loss'])\n",
        "plt.title('model loss')\n",
        "plt.ylabel('loss')\n",
        "plt.xlabel('epoch')\n",
        "plt.legend(['train', 'valid'], loc='upper left')\n",
        "plt.show()"
      ],
      "execution_count": 17,
      "outputs": [
        {
          "output_type": "display_data",
          "data": {
            "image/png": "[encoded data removed]",
            "text/plain": [
              "<Figure size 432x288 with 1 Axes>"
            ]
          },
          "metadata": {
            "needs_background": "light"
          }
        }
      ]
    },
    {
      "cell_type": "markdown",
      "metadata": {
        "id": "oECfYKSp_MaQ"
      },
      "source": [
        "#**15. Tester le modèle final avec une image de test**"
      ]
    },
    {
      "cell_type": "code",
      "metadata": {
        "id": "N_JRsQoh_chG",
        "colab": {
          "base_uri": "https://localhost:8080/",
          "height": 321
        },
        "outputId": "6fb8412e-c7a3-4698-a30e-d76a90ab7b8d"
      },
      "source": [
        "%matplotlib inline\n",
        "\n",
        "classes = train_ds.class_names\n",
        "image_path = \"bases/medium_covid_dataset_3classes/test/covid-19/COVID-3517.png\"\n",
        "\n",
        "img = Image.open(image_path).convert('RGB')\n",
        "x = tf.keras.utils.img_to_array(img,data_format='channels_last')\n",
        "x = tf.keras.preprocessing.image.smart_resize(x, size=(input_dim,input_dim))\n",
        "x = np.expand_dims(x, axis=0)\n",
        "\n",
        "# predict\n",
        "pred = model.predict(x,batch_size=1)[0]\n",
        "\n",
        "for (pos,prob) in enumerate(pred):\n",
        "    class_name = classes[pos]\n",
        "    if (pos == np.argmax(pred)) :\n",
        "        img = cv2.imread(image_path)\n",
        "        img = cv2.cvtColor(img, cv2.COLOR_BGR2RGB)\n",
        "        font = cv2.FONT_HERSHEY_COMPLEX \n",
        "        textsize = cv2.getTextSize(class_name, font, 1, 2)[0]\n",
        "        textX = (img.shape[1] - textsize[0]) / 2\n",
        "        textY = (img.shape[0] + textsize[1]) / 2\n",
        "        cv2.putText(img, class_name, (int(textX)-10, int(textY)), font, 1, (255,0,0), 3, cv2.LINE_AA)\n",
        "        plt.imshow(img)\n",
        "    print(\"Class Name : %s\" % (class_name), \"---\", \"Class Probability: %.2f%%\" % (prob*100))\n",
        "plt.show()"
      ],
      "execution_count": 18,
      "outputs": [
        {
          "output_type": "stream",
          "name": "stdout",
          "text": [
            "Class Name : covid-19 --- Class Probability: 99.77%\n",
            "Class Name : normal --- Class Probability: 0.23%\n",
            "Class Name : viral-pneumonia --- Class Probability: 0.00%\n"
          ]
        },
        {
          "output_type": "display_data",
          "data": {
            "image/png": "[encoded data removed]",
            "text/plain": [
              "<Figure size 432x288 with 1 Axes>"
            ]
          },
          "metadata": {
            "needs_background": "light"
          }
        }
      ]
    },
    {
      "cell_type": "markdown",
      "metadata": {
        "id": "8FXT5TzHRl1M"
      },
      "source": [
        "#**16. Charger et préparer les données et labels de test**"
      ]
    },
    {
      "cell_type": "code",
      "metadata": {
        "id": "9XPOttqFRvG4",
        "colab": {
          "base_uri": "https://localhost:8080/"
        },
        "outputId": "6399715f-ba3b-4caa-dedc-d77161e94da6"
      },
      "source": [
        "test_ds = tf.keras.preprocessing.image_dataset_from_directory(\n",
        "\tdataset_test,          # chemin vers le jeu de données\n",
        "\tseed=42,                    # Initialisation du générateur aléatoire (permutations)\n",
        "\timage_size=(input_dim,input_dim),       # Taille des images d'entrée\n",
        "\tbatch_size=nbr_batch_size,      # Taille du mini-batch\n",
        "  label_mode='categorical'    # Conversion au format One-Hot\n",
        ")\n"
      ],
      "execution_count": 19,
      "outputs": [
        {
          "output_type": "stream",
          "name": "stdout",
          "text": [
            "Found 300 files belonging to 3 classes.\n"
          ]
        }
      ]
    },
    {
      "cell_type": "markdown",
      "metadata": {
        "id": "Q0AY1MAUR071"
      },
      "source": [
        "#**17. Evaluation du modèle**"
      ]
    },
    {
      "cell_type": "code",
      "metadata": {
        "id": "s5SRb_paR20L",
        "colab": {
          "base_uri": "https://localhost:8080/"
        },
        "outputId": "2567a6f4-eb6a-4f72-a7c1-add106e3e677"
      },
      "source": [
        "score = model.evaluate(test_ds,  steps=len(test_ds),workers = 1)\n",
        "print(\"%s: %.2f%%\" % (model.metrics_names[0], score[0]))\n",
        "print(\"%s: %.2f%%\" % (model.metrics_names[1], score[1]*100))"
      ],
      "execution_count": 20,
      "outputs": [
        {
          "output_type": "stream",
          "name": "stdout",
          "text": [
            "19/19 [==============================] - 6s 329ms/step - loss: 1.9837 - accuracy: 0.7367\n",
            "loss: 1.98%\n",
            "accuracy: 73.67%\n"
          ]
        }
      ]
    },
    {
      "cell_type": "markdown",
      "metadata": {
        "id": "TE3VtC8hR_Ee"
      },
      "source": [
        "#**18. Fonction de calcul de prédiction par image**"
      ]
    },
    {
      "cell_type": "code",
      "metadata": {
        "id": "vL0pbPXXR9A3"
      },
      "source": [
        "def print_image_prediction(image_path, label, value):\n",
        "    img = cv2.imread(image_path)\n",
        "    img = cv2.cvtColor(img, cv2.COLOR_BGR2RGB)\n",
        "    font = cv2.FONT_HERSHEY_COMPLEX\n",
        "    textsize = cv2.getTextSize(label, font, 1, 2)[0]\n",
        "    textX = (img.shape[1] - textsize[0]) / 2\n",
        "    textY = (img.shape[0] + textsize[1]) / 2\n",
        "    cv2.putText(img, \"%s : %.2f%%\" % (label, float(value) * 100), (int(textX)-250, int(textY)), font, 1, (255,0,0), 3, cv2.LINE_AA)\n",
        "    plt.imshow(img)\n",
        "    plt.show()"
      ],
      "execution_count": 21,
      "outputs": []
    },
    {
      "cell_type": "markdown",
      "metadata": {
        "id": "dEO0Ng8USEgc"
      },
      "source": [
        "#**19. Identification des erreurs de test et génaration du fichier .csv à soumettre pour le challenge Kaggle**"
      ]
    },
    {
      "cell_type": "code",
      "metadata": {
        "id": "vtYWD-V0SG8u",
        "colab": {
          "base_uri": "https://localhost:8080/"
        },
        "outputId": "8e9d93e3-a513-411e-87b5-010a4d48965a"
      },
      "source": [
        "i=0\n",
        "fichier = open(\"results_classificationv.csv\", \"w\")\n",
        "fichier.write(\"Id,Predicted\")\n",
        "predictions_class = []\n",
        "real_class = []\n",
        "for class_name in test_ds.class_names:\n",
        "    class_path = os.path.join(dataset_test, class_name)\n",
        "    for img_name in os.listdir(class_path):\n",
        "        image_path = os.path.join(class_path, img_name)\n",
        "        img = Image.open(image_path).convert('RGB')\n",
        "        x = tf.keras.utils.img_to_array(img,data_format='channels_last')\n",
        "        x = tf.keras.preprocessing.image.smart_resize(x, size=(input_dim,input_dim))\n",
        "        x = np.expand_dims(x, axis=0)\n",
        "        predictions = model.predict(x)[0]\n",
        "        prediction_index = np.argmax(predictions)\n",
        "        fichier.write(\"\\n\"+img_name[:]+\",\"+classes[prediction_index])\n",
        "        predictions_class.append(prediction_index)\n",
        "        real_class.append(classes.index(class_name))\n",
        "        if classes.index(class_name) != prediction_index:\n",
        "            #print(image_path)\n",
        "            #print_image_prediction(image_path, classes[prediction_index], max(predictions))\n",
        "            i=i+1\n",
        "print(\"Number of errors\", i)\n",
        "print(\"Predicitons:\",predictions_class)\n",
        "print(\"Vérité:\",real_class)\n",
        "fichier.close()"
      ],
      "execution_count": 26,
      "outputs": [
        {
          "output_type": "stream",
          "name": "stdout",
          "text": [
            "Number of errors 79\n",
            "Predicitons: [1, 1, 0, 0, 0, 1, 1, 1, 1, 0, 1, 0, 0, 0, 0, 0, 0, 0, 0, 0, 0, 0, 0, 0, 0, 1, 1, 0, 1, 0, 0, 0, 0, 1, 0, 0, 0, 0, 0, 0, 0, 0, 1, 0, 0, 0, 0, 0, 0, 1, 1, 0, 0, 0, 0, 0, 1, 0, 1, 1, 0, 1, 1, 1, 1, 0, 0, 1, 0, 0, 0, 1, 0, 0, 0, 0, 0, 0, 1, 1, 0, 0, 1, 0, 0, 1, 0, 0, 0, 1, 0, 1, 0, 1, 0, 0, 0, 1, 0, 0, 0, 1, 1, 1, 1, 0, 1, 1, 1, 1, 1, 1, 0, 0, 1, 1, 1, 1, 1, 1, 1, 0, 0, 0, 1, 1, 1, 1, 0, 1, 0, 1, 1, 0, 1, 1, 1, 1, 1, 0, 0, 1, 1, 1, 1, 1, 1, 1, 1, 0, 1, 2, 0, 1, 1, 0, 1, 1, 1, 1, 1, 1, 1, 0, 1, 1, 0, 1, 1, 1, 1, 1, 1, 1, 1, 1, 1, 1, 1, 1, 1, 1, 1, 1, 1, 0, 1, 1, 1, 1, 0, 1, 1, 0, 1, 1, 1, 1, 1, 0, 2, 2, 2, 1, 2, 1, 2, 2, 1, 2, 2, 2, 2, 2, 1, 2, 2, 2, 2, 2, 2, 2, 2, 2, 2, 1, 2, 1, 2, 2, 2, 2, 2, 1, 1, 2, 2, 2, 2, 2, 1, 2, 2, 1, 1, 1, 2, 1, 2, 2, 2, 1, 1, 2, 1, 2, 2, 2, 1, 2, 1, 1, 2, 2, 2, 2, 2, 1, 2, 2, 1, 2, 2, 2, 2, 2, 2, 2, 2, 2, 2, 2, 1, 1, 2, 2, 2, 2, 2, 2, 2, 2, 2, 2, 2, 1, 2, 1, 2, 0]\n",
            "Vérité: [0, 0, 0, 0, 0, 0, 0, 0, 0, 0, 0, 0, 0, 0, 0, 0, 0, 0, 0, 0, 0, 0, 0, 0, 0, 0, 0, 0, 0, 0, 0, 0, 0, 0, 0, 0, 0, 0, 0, 0, 0, 0, 0, 0, 0, 0, 0, 0, 0, 0, 0, 0, 0, 0, 0, 0, 0, 0, 0, 0, 0, 0, 0, 0, 0, 0, 0, 0, 0, 0, 0, 0, 0, 0, 0, 0, 0, 0, 0, 0, 0, 0, 0, 0, 0, 0, 0, 0, 0, 0, 0, 0, 0, 0, 0, 0, 0, 0, 0, 0, 1, 1, 1, 1, 1, 1, 1, 1, 1, 1, 1, 1, 1, 1, 1, 1, 1, 1, 1, 1, 1, 1, 1, 1, 1, 1, 1, 1, 1, 1, 1, 1, 1, 1, 1, 1, 1, 1, 1, 1, 1, 1, 1, 1, 1, 1, 1, 1, 1, 1, 1, 1, 1, 1, 1, 1, 1, 1, 1, 1, 1, 1, 1, 1, 1, 1, 1, 1, 1, 1, 1, 1, 1, 1, 1, 1, 1, 1, 1, 1, 1, 1, 1, 1, 1, 1, 1, 1, 1, 1, 1, 1, 1, 1, 1, 1, 1, 1, 1, 1, 2, 2, 2, 2, 2, 2, 2, 2, 2, 2, 2, 2, 2, 2, 2, 2, 2, 2, 2, 2, 2, 2, 2, 2, 2, 2, 2, 2, 2, 2, 2, 2, 2, 2, 2, 2, 2, 2, 2, 2, 2, 2, 2, 2, 2, 2, 2, 2, 2, 2, 2, 2, 2, 2, 2, 2, 2, 2, 2, 2, 2, 2, 2, 2, 2, 2, 2, 2, 2, 2, 2, 2, 2, 2, 2, 2, 2, 2, 2, 2, 2, 2, 2, 2, 2, 2, 2, 2, 2, 2, 2, 2, 2, 2, 2, 2, 2, 2, 2, 2]\n"
          ]
        }
      ]
    },
    {
      "cell_type": "code",
      "metadata": {
        "colab": {
          "base_uri": "https://localhost:8080/"
        },
        "id": "av0HfzG_1a8t",
        "outputId": "fcfe8efb-5e48-4f87-e3c2-797df339d2f4"
      },
      "source": [
        "from sklearn.preprocessing import normalize\n",
        "con_mat = tf.math.confusion_matrix(\n",
        "    real_class, predictions_class, num_classes=None, weights=None, dtype=tf.dtypes.int32,\n",
        "    name=None\n",
        ")\n",
        "norm_cm = normalize(con_mat, axis=1, norm='l1')\n",
        "print(norm_cm)"
      ],
      "execution_count": 27,
      "outputs": [
        {
          "output_type": "stream",
          "name": "stdout",
          "text": [
            "[[0.69 0.31 0.  ]\n",
            " [0.21 0.78 0.01]\n",
            " [0.01 0.25 0.74]]\n"
          ]
        }
      ]
    },
    {
      "cell_type": "code",
      "metadata": {
        "colab": {
          "base_uri": "https://localhost:8080/",
          "height": 599
        },
        "id": "QI9DGsehLCAl",
        "outputId": "143c89f3-bd78-40c4-fc68-d48d5fe9d7be"
      },
      "source": [
        "import seaborn as sns\n",
        "\n",
        "figure = plt.figure(figsize=(8, 8))\n",
        "sns.heatmap(norm_cm, annot=True,cmap=plt.cm.Purples,xticklabels=[\"covid-19\",\"normal\",\"viral-pneumonia\"],yticklabels=[\"covid-19\",\"normal\",\"viral-pneumonia\"])\n",
        "plt.tight_layout()\n",
        "plt.ylabel('True label')\n",
        "plt.xlabel('Predicted label')\n",
        "plt.show()"
      ],
      "execution_count": 28,
      "outputs": [
        {
          "output_type": "display_data",
          "data": {
            "image/png": "[encoded data removed]",
            "text/plain": [
              "<Figure size 576x576 with 2 Axes>"
            ]
          },
          "metadata": {
            "needs_background": "light"
          }
        }
      ]
    }
  ]
}